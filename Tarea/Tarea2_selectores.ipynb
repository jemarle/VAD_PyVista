{
 "cells": [
  {
   "cell_type": "markdown",
   "metadata": {},
   "source": [
    "# Autor: Jesús Martínez Leal"
   ]
  },
  {
   "cell_type": "markdown",
   "metadata": {},
   "source": [
    "Fecha de última edición: 24/03/2023\n",
    "\n",
    "Descripción: Script para visualizar las mallas de los pacientes y las variables seleccionadas por el usuario con la inclusión de widgets."
   ]
  },
  {
   "cell_type": "markdown",
   "metadata": {},
   "source": [
    "## Importación de librerías"
   ]
  },
  {
   "cell_type": "markdown",
   "metadata": {},
   "source": [
    "Las siguientes librerías son necesarias de instalarse para que todo funcione correctamente en el Jupyter Notebook (al menos en Visual Studio Code)."
   ]
  },
  {
   "cell_type": "code",
   "execution_count": 1,
   "metadata": {},
   "outputs": [],
   "source": [
    "#pip install trame\n",
    "#pip install vtk\n",
    "#pip install --upgrade trame-vtk\n",
    "#pip install --upgrade trame-vuetify"
   ]
  },
  {
   "cell_type": "code",
   "execution_count": 2,
   "metadata": {},
   "outputs": [],
   "source": [
    "import pyvista as pv\n",
    "import ipywidgets as widgets"
   ]
  },
  {
   "cell_type": "markdown",
   "metadata": {},
   "source": [
    "## Código necesario para la visualización 3D"
   ]
  },
  {
   "cell_type": "code",
   "execution_count": 3,
   "metadata": {},
   "outputs": [],
   "source": [
    "class SetVisibilityCallback:\n",
    "    \n",
    "    \"\"\"Helper callback to keep a reference to the actor being modified.\"\"\"\n",
    "\n",
    "    # Constructor de la clase\n",
    "    \n",
    "    def __init__(self, actor):\n",
    "        self.actor = actor\n",
    "\n",
    "    # Método para cambiar la visibilidad de la malla\n",
    "\n",
    "    def __call__(self, state):\n",
    "        self.actor.SetVisibility(state)\n",
    "\n",
    "\n",
    "# Función de carga de pacientes y visualización de mallas\n",
    "\n",
    "def cargar_paciente(paciente, idx, var1, var2, plotter):\n",
    "    \n",
    "    # Cargar los archivos\n",
    "    \n",
    "    path_patient = f'./Pacientes/{paciente}/'\n",
    "    \n",
    "    BZS = pv.read(path_patient + 'Border Zone Surface.vtk')\n",
    "    CS = pv.read(path_patient + 'Core Surface.vtk')\n",
    "    vT = pv.read(path_patient + 'ventricle_Tagged.vtk')\n",
    "\n",
    "    # Visualización de partes de ventrículo en cada paciente:\n",
    "    \n",
    "    plotter.subplot(0, idx)\n",
    "    actores = [plotter.add_mesh(mesh, color = color, opacity = 0.5) for mesh, color in zip([BZS, CS, vT], [\"blue\", \"red\", \"green\"])]\n",
    "    plotter.add_text(f\"Paciente {paciente}\", position = 'upper_left')\n",
    "\n",
    "    namesZones = [\"BZS\", \"CS\", \"vT\"]\n",
    "    text_colors = [\"blue\", \"red\", \"green\"]\n",
    "    \n",
    "    # Agregar botones de checkbox para controlar la visibilidad de las mallas\n",
    "    \n",
    "    size = 20\n",
    "    position_y = 12\n",
    "\n",
    "    for actor, color in zip(actores, [\"blue\", \"red\", \"green\"]):\n",
    "        callback = SetVisibilityCallback(actor)\n",
    "        plotter.add_checkbox_button_widget(\n",
    "            callback,\n",
    "            value = True,\n",
    "            position=(5.0, position_y),\n",
    "            size = size,\n",
    "            border_size = 1,\n",
    "            color_on = color,\n",
    "            color_off = 'grey',\n",
    "            background_color = 'grey',\n",
    "        )\n",
    "        position_y += size + (size // 10)\n",
    "        \n",
    "    # Texto para identificar botones\n",
    "    \n",
    "    for index, (variable, color) in enumerate(zip(namesZones, text_colors)):\n",
    "\n",
    "        text = \"\\n \\n\" * (index + 1) + variable\n",
    "\n",
    "        plotter.add_text(text, position='upper_left', font_size = 13, color = color)   \n",
    "        \n",
    "        \n",
    "    # Visualización de la primera variable seleccionada por el usuario   \n",
    "    \n",
    "    plotter.subplot(1, idx)\n",
    "    \n",
    "    if var1 == \"fibers_OR\":\n",
    "        # Campo vectorial (flechas)\n",
    "        \n",
    "        centers = vT.points\n",
    "        directions = vT[\"fibers_OR\"]\n",
    "        mag = 1\n",
    "        actor_var1 = plotter.add_arrows(centers, directions, mag = mag, color = \"black\")\n",
    "    else:\n",
    "        # Campo de escalares\n",
    "        actor_var1 = plotter.add_mesh(vT, scalars = var1, cmap = \"viridis\")\n",
    "        \n",
    "    text_var1 = plotter.add_text(var1, position = 'upper_left', font_size = 13, color = 'blue')\n",
    "    \n",
    "    # Visualización de la segunda variable seleccionada por el usuario\n",
    "    \n",
    "    plotter.subplot(2, idx)\n",
    "    \n",
    "    if var2 == \"fibers_OR\":\n",
    "        # Campo vectorial (flechas)\n",
    "    \n",
    "        centers = vT.points\n",
    "        directions = vT[\"fibers_OR\"]\n",
    "        mag = 1\n",
    "        actor_var2 = plotter.add_arrows(centers, directions, mag = mag, color = \"black\")\n",
    "    else:\n",
    "        # Campo de escalares\n",
    "        actor_var2 = plotter.add_mesh(vT, scalars = var2, cmap = \"plasma\")\n",
    "\n",
    "    text_var2 = plotter.add_text(var2, position='upper_left', font_size=13, color='red')\n",
    "    \n",
    "    return (BZS, CS, vT), (text_var1, text_var2)\n",
    "\n",
    "# Crear el plotter\n",
    "\n",
    "def crear_plotter():\n",
    "    return pv.Plotter(shape=(3, 3))\n",
    "\n",
    "# Función para actualizar los gráficos cuando se cambian las variables\n",
    "\n",
    "def actualizar_graficos(var1, var2):\n",
    "    global added_texts\n",
    "    plotter = crear_plotter()  # Reconstruir el plotter\n",
    "    \n",
    "    added_texts = []  # Restablecer la lista de textos agregados\n",
    "    \n",
    "    for idx, paciente in enumerate(pacientes):\n",
    "        print(\"Cargando información relacionada con el paciente\", paciente)\n",
    "        meshes, texts = cargar_paciente(paciente, idx, var1, var2, plotter)\n",
    "        added_texts.extend(texts)  # Agregar los textos a la lista de textos agregados\n",
    "    \n",
    "    # Mostrar los nuevos gráficos\n",
    "    plotter.show()"
   ]
  },
  {
   "cell_type": "code",
   "execution_count": 4,
   "metadata": {},
   "outputs": [],
   "source": [
    "pacientes = [\"p2\", \"p5\", \"p36\"]\n",
    "\n",
    "# Variables iniciales\n",
    "\n",
    "var1 = \"scalars\"\n",
    "var2 = \"DistEndoToEpi\""
   ]
  },
  {
   "cell_type": "code",
   "execution_count": 5,
   "metadata": {},
   "outputs": [],
   "source": [
    "# Seguimiento de los textos agregados\n",
    "added_texts = []\n",
    "\n",
    "# Widgets para las variables\n",
    "var1_widget = widgets.Dropdown(\n",
    "    options=['scalars', 'DistEndoToEpi', 'EndoToEpi', 'Cell_type', 'fibers_OR', 'endo_Norm', 'epi_Norm', 'vector_LAxis', 'tagApexBase', 'DistApexToBase', '17_AHA', '34_pacing'],\n",
    "    value = var1,\n",
    "    description='Variable 1:'\n",
    ")\n",
    "\n",
    "var2_widget = widgets.Dropdown(\n",
    "    options=['scalars', 'DistEndoToEpi', 'EndoToEpi', 'Cell_type', 'fibers_OR', 'endo_Norm', 'epi_Norm', 'vector_LAxis', 'tagApexBase', 'DistApexToBase', '17_AHA', '34_pacing'],\n",
    "    value = var2,\n",
    "    description='Variable 2:'\n",
    ")"
   ]
  },
  {
   "cell_type": "markdown",
   "metadata": {},
   "source": [
    "### Widget para actualizar los gráficos\n",
    "\n",
    "La primera vez se dispondrán los gráficos en el propio visualizador de Jupyter. A partir de la segunda se abrirá de manera externa en el visualizador usual de Win32 OpenGL (en mi caso).\n",
    "\n",
    "El hecho de alterar lo de las cajas de selección de variables hace que se vuelva a ejecutar el código de abajo. Puede llevar más o menos tiempo dependiendo de la capacidad de cálculo del dispositivo."
   ]
  },
  {
   "cell_type": "code",
   "execution_count": 6,
   "metadata": {},
   "outputs": [
    {
     "data": {
      "application/vnd.jupyter.widget-view+json": {
       "model_id": "21cd780888f8459ebd2e57fd68bebf00",
       "version_major": 2,
       "version_minor": 0
      },
      "text/plain": [
       "interactive(children=(Dropdown(description='Variable 1:', options=('scalars', 'DistEndoToEpi', 'EndoToEpi', 'C…"
      ]
     },
     "execution_count": 6,
     "metadata": {},
     "output_type": "execute_result"
    }
   ],
   "source": [
    "widgets.interactive(\n",
    "    actualizar_graficos,\n",
    "    var1 = var1_widget,\n",
    "    var2 = var2_widget\n",
    ") "
   ]
  }
 ],
 "metadata": {
  "kernelspec": {
   "display_name": "Python 3",
   "language": "python",
   "name": "python3"
  },
  "language_info": {
   "codemirror_mode": {
    "name": "ipython",
    "version": 3
   },
   "file_extension": ".py",
   "mimetype": "text/x-python",
   "name": "python",
   "nbconvert_exporter": "python",
   "pygments_lexer": "ipython3",
   "version": "3.11.5"
  }
 },
 "nbformat": 4,
 "nbformat_minor": 2
}
